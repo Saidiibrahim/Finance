{
 "cells": [
  {
   "cell_type": "markdown",
   "metadata": {},
   "source": [
    "# Getting Financial Ratios Using Python\n",
    "### This workbook shows you how to get financial ratios for any company from the free API financialmodelingprep.com "
   ]
  },
  {
   "cell_type": "code",
   "execution_count": 5,
   "metadata": {},
   "outputs": [],
   "source": [
    "#import packages we need\n",
    "import requests\n",
    "import json\n",
    "import pandas as pd"
   ]
  },
  {
   "cell_type": "code",
   "execution_count": 6,
   "metadata": {},
   "outputs": [],
   "source": [
    "# Get company ratios using request package\n",
    "company = 'AAPL'   \n",
    "financial_ratios =  requests.get(f\"https://financialmodelingprep.com/api/v3/financial-ratios/{company}\")\n",
    "financial_ratios = financial_ratios.json()"
   ]
  },
  {
   "cell_type": "code",
   "execution_count": 8,
   "metadata": {},
   "outputs": [
    {
     "data": {
      "text/plain": [
       "{'date': '2019-09-28',\n",
       " 'investmentValuationRatios': {'priceBookValueRatio': '10.666314697418441',\n",
       "  'priceToBookRatio': '10.666314697418441',\n",
       "  'priceToSalesRatio': '3.709723048190826',\n",
       "  'priceEarningsRatio': '17.46730643441436',\n",
       "  'receivablesTurnover': '11.34842536857716',\n",
       "  'priceToFreeCashFlowsRatio': '16.38775951405868',\n",
       "  'priceToOperatingCashFlowsRatio': '13.909202696891526',\n",
       "  'priceCashFlowRatio': '13.909202696891526',\n",
       "  'priceEarningsToGrowthRatio': '1.3549431647588217',\n",
       "  'priceSalesRatio': '3.709723048190826',\n",
       "  'dividendYield': '0.014628458229615355',\n",
       "  'enterpriseValueMultiple': '13.31637596061561',\n",
       "  'priceFairValue': '10.666314697418441'},\n",
       " 'profitabilityIndicatorRatios': {'niperEBT': '0.8405616319576494',\n",
       "  'ebtperEBIT': '1.0282652901611138',\n",
       "  'ebitperRevenue': '0.24572017188496928',\n",
       "  'grossProfitMargin': '0.3781776810903472',\n",
       "  'operatingProfitMargin': '0.24572017188496928',\n",
       "  'pretaxProfitMargin': '0.2526655238417367',\n",
       "  'netProfitMargin': '0.21238094505984456',\n",
       "  'effectiveTaxRate': '0.1594383680423506',\n",
       "  'returnOnAssets': '0.16323009842961633',\n",
       "  'returnOnEquity': '0.6106445053487756',\n",
       "  'returnOnCapitalEmployed': '0.2746157613037913',\n",
       "  'nIperEBT': '0.8405616319576494',\n",
       "  'eBTperEBIT': '1.0282652901611138',\n",
       "  'eBITperRevenue': '0.24572017188496928'},\n",
       " 'operatingPerformanceRatios': {'receivablesTurnover': '11.34842536857716',\n",
       "  'payablesTurnover': '3.4990483605848257',\n",
       "  'inventoryTurnover': '39.40136385776912',\n",
       "  'fixedAssetTurnover': '6.960618545668575',\n",
       "  'assetTurnover': '0.7685722388306608'},\n",
       " 'liquidityMeasurementRatios': {'currentRatio': '1.540125617208044',\n",
       "  'quickRatio': '1.168041393140241',\n",
       "  'cashRatio': '0.46202160464632325',\n",
       "  'daysOfSalesOutstanding': '32.16305241876591',\n",
       "  'daysOfInventoryOutstanding': '9.263638723714628',\n",
       "  'operatingCycle': '41.426691142480536',\n",
       "  'daysOfPayablesOutstanding': '104.31407696777144',\n",
       "  'cashConversionCycle': '-72.15102454900554'},\n",
       " 'debtRatios': {'debtRatio': '0.7326921031797611',\n",
       "  'debtEquityRatio': '2.7410043320661304',\n",
       "  'longtermDebtToCapitalization': '0.5036177624180587',\n",
       "  'totalDebtToCapitalization': '9.180700000005328E10',\n",
       "  'interestCoverage': '17.87751677852349',\n",
       "  'cashFlowToDebtRatio': '0.6798573486043481',\n",
       "  'companyEquityMultiplier': '3.7410043320661304'},\n",
       " 'cashFlowIndicatorRatios': {'operatingCashFlowPerShare': '15.026741974700693',\n",
       "  'freeCashFlowPerShare': '12.75403143551717',\n",
       "  'cashPerShare': '21.775793586343728',\n",
       "  'payoutRatio': '0.25551976255972203',\n",
       "  'receivablesTurnover': '11.34842536857716',\n",
       "  'operatingCashFlowSalesRatio': '0.2667099710193947',\n",
       "  'freeCashFlowOperatingCashFlowRatio': '0.848755602311539',\n",
       "  'cashFlowCoverageRatios': '0.6798573486043481',\n",
       "  'shortTermCoverageRatios': '6.7632553606237815',\n",
       "  'capitalExpenditureCoverageRatios': '6.611815150071463',\n",
       "  'dividendpaidAndCapexCoverageRatios': '2.8191679531973675',\n",
       "  'dividendPayoutRatio': '0.25551976255972203'}}"
      ]
     },
     "execution_count": 8,
     "metadata": {},
     "output_type": "execute_result"
    }
   ],
   "source": [
    "ratios = financial_ratios['ratios'][0]\n",
    "ratios"
   ]
  },
  {
   "cell_type": "code",
   "execution_count": 9,
   "metadata": {},
   "outputs": [
    {
     "data": {
      "text/plain": [
       "{'niperEBT': '0.8405616319576494',\n",
       " 'ebtperEBIT': '1.0282652901611138',\n",
       " 'ebitperRevenue': '0.24572017188496928',\n",
       " 'grossProfitMargin': '0.3781776810903472',\n",
       " 'operatingProfitMargin': '0.24572017188496928',\n",
       " 'pretaxProfitMargin': '0.2526655238417367',\n",
       " 'netProfitMargin': '0.21238094505984456',\n",
       " 'effectiveTaxRate': '0.1594383680423506',\n",
       " 'returnOnAssets': '0.16323009842961633',\n",
       " 'returnOnEquity': '0.6106445053487756',\n",
       " 'returnOnCapitalEmployed': '0.2746157613037913',\n",
       " 'nIperEBT': '0.8405616319576494',\n",
       " 'eBTperEBIT': '1.0282652901611138',\n",
       " 'eBITperRevenue': '0.24572017188496928'}"
      ]
     },
     "execution_count": 9,
     "metadata": {},
     "output_type": "execute_result"
    }
   ],
   "source": [
    "profit_ratios = ratios['profitabilityIndicatorRatios']\n",
    "profit_ratios"
   ]
  },
  {
   "cell_type": "code",
   "execution_count": 10,
   "metadata": {},
   "outputs": [],
   "source": [
    "# Create a function that will get profit ratios when given a stock \n",
    "def get_profit_ratios(stock):\n",
    "    financial_ratios =  requests.get(f\"https://financialmodelingprep.com/api/v3/financial-ratios/{stock}\")\n",
    "    financial_ratios = financial_ratios.json()\n",
    "    ratios = financial_ratios['ratios'][0]\n",
    "    profit_ratios = ratios['profitabilityIndicatorRatios']\n",
    "    \n",
    "    return profit_ratios\n",
    "    \n",
    "    "
   ]
  },
  {
   "cell_type": "code",
   "execution_count": 11,
   "metadata": {},
   "outputs": [
    {
     "data": {
      "text/plain": [
       "{'niperEBT': '0.8405616319576494',\n",
       " 'ebtperEBIT': '1.0282652901611138',\n",
       " 'ebitperRevenue': '0.24572017188496928',\n",
       " 'grossProfitMargin': '0.3781776810903472',\n",
       " 'operatingProfitMargin': '0.24572017188496928',\n",
       " 'pretaxProfitMargin': '0.2526655238417367',\n",
       " 'netProfitMargin': '0.21238094505984456',\n",
       " 'effectiveTaxRate': '0.1594383680423506',\n",
       " 'returnOnAssets': '0.16323009842961633',\n",
       " 'returnOnEquity': '0.6106445053487756',\n",
       " 'returnOnCapitalEmployed': '0.2746157613037913',\n",
       " 'nIperEBT': '0.8405616319576494',\n",
       " 'eBTperEBIT': '1.0282652901611138',\n",
       " 'eBITperRevenue': '0.24572017188496928'}"
      ]
     },
     "execution_count": 11,
     "metadata": {},
     "output_type": "execute_result"
    }
   ],
   "source": [
    "# Check the function works\n",
    "get_profit_ratios('AAPL')"
   ]
  },
  {
   "cell_type": "code",
   "execution_count": 12,
   "metadata": {},
   "outputs": [
    {
     "data": {
      "text/plain": [
       "{'operatingCashFlowPerShare': '15.026741974700693',\n",
       " 'freeCashFlowPerShare': '12.75403143551717',\n",
       " 'cashPerShare': '21.775793586343728',\n",
       " 'payoutRatio': '0.25551976255972203',\n",
       " 'receivablesTurnover': '11.34842536857716',\n",
       " 'operatingCashFlowSalesRatio': '0.2667099710193947',\n",
       " 'freeCashFlowOperatingCashFlowRatio': '0.848755602311539',\n",
       " 'cashFlowCoverageRatios': '0.6798573486043481',\n",
       " 'shortTermCoverageRatios': '6.7632553606237815',\n",
       " 'capitalExpenditureCoverageRatios': '6.611815150071463',\n",
       " 'dividendpaidAndCapexCoverageRatios': '2.8191679531973675',\n",
       " 'dividendPayoutRatio': '0.25551976255972203'}"
      ]
     },
     "execution_count": 12,
     "metadata": {},
     "output_type": "execute_result"
    }
   ],
   "source": [
    "cash_flow = ratios['cashFlowIndicatorRatios']\n",
    "cash_flow"
   ]
  },
  {
   "cell_type": "code",
   "execution_count": 13,
   "metadata": {},
   "outputs": [],
   "source": [
    "# Create a function that will get cash flow ratios when given a stock \n",
    "def get_cashflow_ratios(stock):\n",
    "    financial_ratios =  requests.get(f\"https://financialmodelingprep.com/api/v3/financial-ratios/{stock}\")\n",
    "    financial_ratios = financial_ratios.json()\n",
    "    ratios = financial_ratios['ratios'][0]\n",
    "    cash_flow = ratios['cashFlowIndicatorRatios']\n",
    "    \n",
    "    return profit_ratios"
   ]
  },
  {
   "cell_type": "code",
   "execution_count": 14,
   "metadata": {},
   "outputs": [
    {
     "data": {
      "text/plain": [
       "{'niperEBT': '0.8405616319576494',\n",
       " 'ebtperEBIT': '1.0282652901611138',\n",
       " 'ebitperRevenue': '0.24572017188496928',\n",
       " 'grossProfitMargin': '0.3781776810903472',\n",
       " 'operatingProfitMargin': '0.24572017188496928',\n",
       " 'pretaxProfitMargin': '0.2526655238417367',\n",
       " 'netProfitMargin': '0.21238094505984456',\n",
       " 'effectiveTaxRate': '0.1594383680423506',\n",
       " 'returnOnAssets': '0.16323009842961633',\n",
       " 'returnOnEquity': '0.6106445053487756',\n",
       " 'returnOnCapitalEmployed': '0.2746157613037913',\n",
       " 'nIperEBT': '0.8405616319576494',\n",
       " 'eBTperEBIT': '1.0282652901611138',\n",
       " 'eBITperRevenue': '0.24572017188496928'}"
      ]
     },
     "execution_count": 14,
     "metadata": {},
     "output_type": "execute_result"
    }
   ],
   "source": [
    "# Check the function works\n",
    "get_cashflow_ratios('AAPL')"
   ]
  },
  {
   "cell_type": "code",
   "execution_count": null,
   "metadata": {},
   "outputs": [],
   "source": []
  }
 ],
 "metadata": {
  "kernelspec": {
   "display_name": "Python 3",
   "language": "python",
   "name": "python3"
  },
  "language_info": {
   "codemirror_mode": {
    "name": "ipython",
    "version": 3
   },
   "file_extension": ".py",
   "mimetype": "text/x-python",
   "name": "python",
   "nbconvert_exporter": "python",
   "pygments_lexer": "ipython3",
   "version": "3.7.4"
  }
 },
 "nbformat": 4,
 "nbformat_minor": 4
}

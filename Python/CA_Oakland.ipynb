{
 "cells": [
  {
   "cell_type": "markdown",
   "metadata": {},
   "source": [
    "# Importing and Cleaning Data"
   ]
  },
  {
   "cell_type": "code",
   "execution_count": 2,
   "metadata": {},
   "outputs": [],
   "source": [
    "# import libraries\n",
    "import pandas as pd\n",
    "import matplotlib.pyplot as plt\n",
    "import seaborn as sns"
   ]
  },
  {
   "cell_type": "code",
   "execution_count": 3,
   "metadata": {},
   "outputs": [
    {
     "name": "stderr",
     "output_type": "stream",
     "text": [
      "/Users/ibrahim_saidi/opt/anaconda3/lib/python3.7/site-packages/IPython/core/interactiveshell.py:3063: DtypeWarning: Columns (6,10,22,27) have mixed types.Specify dtype option on import or set low_memory=False.\n",
      "  interactivity=interactivity, compiler=compiler, result=result)\n"
     ]
    },
    {
     "data": {
      "text/html": [
       "<div>\n",
       "<style scoped>\n",
       "    .dataframe tbody tr th:only-of-type {\n",
       "        vertical-align: middle;\n",
       "    }\n",
       "\n",
       "    .dataframe tbody tr th {\n",
       "        vertical-align: top;\n",
       "    }\n",
       "\n",
       "    .dataframe thead th {\n",
       "        text-align: right;\n",
       "    }\n",
       "</style>\n",
       "<table border=\"1\" class=\"dataframe\">\n",
       "  <thead>\n",
       "    <tr style=\"text-align: right;\">\n",
       "      <th></th>\n",
       "      <th>raw_row_number</th>\n",
       "      <th>date</th>\n",
       "      <th>time</th>\n",
       "      <th>location</th>\n",
       "      <th>lat</th>\n",
       "      <th>lng</th>\n",
       "      <th>beat</th>\n",
       "      <th>subject_age</th>\n",
       "      <th>subject_race</th>\n",
       "      <th>subject_sex</th>\n",
       "      <th>...</th>\n",
       "      <th>contraband_weapons</th>\n",
       "      <th>search_conducted</th>\n",
       "      <th>search_basis</th>\n",
       "      <th>reason_for_stop</th>\n",
       "      <th>use_of_force_description</th>\n",
       "      <th>raw_subject_sdrace</th>\n",
       "      <th>raw_subject_resultofencounter</th>\n",
       "      <th>raw_subject_searchconducted</th>\n",
       "      <th>raw_subject_typeofsearch</th>\n",
       "      <th>raw_subject_resultofsearch</th>\n",
       "    </tr>\n",
       "  </thead>\n",
       "  <tbody>\n",
       "    <tr>\n",
       "      <th>0</th>\n",
       "      <td>17213</td>\n",
       "      <td>NaN</td>\n",
       "      <td>01:33:00</td>\n",
       "      <td>E. 28th St. &amp; Park BLVD</td>\n",
       "      <td>37.803084</td>\n",
       "      <td>-122.237247</td>\n",
       "      <td>NaN</td>\n",
       "      <td>NaN</td>\n",
       "      <td>asian/pacific islander</td>\n",
       "      <td>female</td>\n",
       "      <td>...</td>\n",
       "      <td>NaN</td>\n",
       "      <td>False</td>\n",
       "      <td>NaN</td>\n",
       "      <td>Traffic Violation</td>\n",
       "      <td>NaN</td>\n",
       "      <td>A</td>\n",
       "      <td>Citation,</td>\n",
       "      <td>No</td>\n",
       "      <td>NaN</td>\n",
       "      <td>NaN</td>\n",
       "    </tr>\n",
       "    <tr>\n",
       "      <th>1</th>\n",
       "      <td>17214</td>\n",
       "      <td>NaN</td>\n",
       "      <td>14:48:00</td>\n",
       "      <td>1759 SEMINARY AV</td>\n",
       "      <td>37.767568</td>\n",
       "      <td>-122.196820</td>\n",
       "      <td>NaN</td>\n",
       "      <td>NaN</td>\n",
       "      <td>black</td>\n",
       "      <td>male</td>\n",
       "      <td>...</td>\n",
       "      <td>False</td>\n",
       "      <td>True</td>\n",
       "      <td>other</td>\n",
       "      <td>Probation/Parole</td>\n",
       "      <td>NaN</td>\n",
       "      <td>B</td>\n",
       "      <td>FI Report,</td>\n",
       "      <td>Yes</td>\n",
       "      <td>Prob./Parole,</td>\n",
       "      <td>NaN</td>\n",
       "    </tr>\n",
       "    <tr>\n",
       "      <th>2</th>\n",
       "      <td>1</td>\n",
       "      <td>2013-04-01</td>\n",
       "      <td>00:00:00</td>\n",
       "      <td>31st St And Mlk Jr Way</td>\n",
       "      <td>37.820599</td>\n",
       "      <td>-122.270734</td>\n",
       "      <td>NaN</td>\n",
       "      <td>NaN</td>\n",
       "      <td>white</td>\n",
       "      <td>male</td>\n",
       "      <td>...</td>\n",
       "      <td>False</td>\n",
       "      <td>True</td>\n",
       "      <td>other</td>\n",
       "      <td>Traffic Violation</td>\n",
       "      <td>NaN</td>\n",
       "      <td>W</td>\n",
       "      <td>Warning,</td>\n",
       "      <td>Yes</td>\n",
       "      <td>Prob./Parole,</td>\n",
       "      <td>NaN</td>\n",
       "    </tr>\n",
       "    <tr>\n",
       "      <th>3</th>\n",
       "      <td>2</td>\n",
       "      <td>2013-04-01</td>\n",
       "      <td>00:01:00</td>\n",
       "      <td>3000 Block Of San Pablo Ave</td>\n",
       "      <td>37.821246</td>\n",
       "      <td>-122.276488</td>\n",
       "      <td>NaN</td>\n",
       "      <td>NaN</td>\n",
       "      <td>black</td>\n",
       "      <td>male</td>\n",
       "      <td>...</td>\n",
       "      <td>NaN</td>\n",
       "      <td>False</td>\n",
       "      <td>NaN</td>\n",
       "      <td>Traffic Violation</td>\n",
       "      <td>NaN</td>\n",
       "      <td>B</td>\n",
       "      <td>FI Report,</td>\n",
       "      <td>No</td>\n",
       "      <td>NaN</td>\n",
       "      <td>NaN</td>\n",
       "    </tr>\n",
       "    <tr>\n",
       "      <th>4</th>\n",
       "      <td>19</td>\n",
       "      <td>2013-04-01</td>\n",
       "      <td>10:41:00</td>\n",
       "      <td>12th St/Broadway</td>\n",
       "      <td>37.802937</td>\n",
       "      <td>-122.271738</td>\n",
       "      <td>NaN</td>\n",
       "      <td>NaN</td>\n",
       "      <td>hispanic</td>\n",
       "      <td>female</td>\n",
       "      <td>...</td>\n",
       "      <td>NaN</td>\n",
       "      <td>False</td>\n",
       "      <td>NaN</td>\n",
       "      <td>Probable Cause</td>\n",
       "      <td>NaN</td>\n",
       "      <td>H</td>\n",
       "      <td>Citation,</td>\n",
       "      <td>No</td>\n",
       "      <td>NaN</td>\n",
       "      <td>NaN</td>\n",
       "    </tr>\n",
       "  </tbody>\n",
       "</table>\n",
       "<p>5 rows × 28 columns</p>\n",
       "</div>"
      ],
      "text/plain": [
       "  raw_row_number        date      time                     location  \\\n",
       "0          17213         NaN  01:33:00      E. 28th St. & Park BLVD   \n",
       "1          17214         NaN  14:48:00             1759 SEMINARY AV   \n",
       "2              1  2013-04-01  00:00:00       31st St And Mlk Jr Way   \n",
       "3              2  2013-04-01  00:01:00  3000 Block Of San Pablo Ave   \n",
       "4             19  2013-04-01  10:41:00             12th St/Broadway   \n",
       "\n",
       "         lat         lng beat  subject_age            subject_race  \\\n",
       "0  37.803084 -122.237247  NaN          NaN  asian/pacific islander   \n",
       "1  37.767568 -122.196820  NaN          NaN                   black   \n",
       "2  37.820599 -122.270734  NaN          NaN                   white   \n",
       "3  37.821246 -122.276488  NaN          NaN                   black   \n",
       "4  37.802937 -122.271738  NaN          NaN                hispanic   \n",
       "\n",
       "  subject_sex  ... contraband_weapons search_conducted  search_basis  \\\n",
       "0      female  ...                NaN            False           NaN   \n",
       "1        male  ...              False             True         other   \n",
       "2        male  ...              False             True         other   \n",
       "3        male  ...                NaN            False           NaN   \n",
       "4      female  ...                NaN            False           NaN   \n",
       "\n",
       "     reason_for_stop  use_of_force_description raw_subject_sdrace  \\\n",
       "0  Traffic Violation                       NaN                  A   \n",
       "1   Probation/Parole                       NaN                  B   \n",
       "2  Traffic Violation                       NaN                  W   \n",
       "3  Traffic Violation                       NaN                  B   \n",
       "4     Probable Cause                       NaN                  H   \n",
       "\n",
       "  raw_subject_resultofencounter raw_subject_searchconducted  \\\n",
       "0                     Citation,                          No   \n",
       "1                    FI Report,                         Yes   \n",
       "2                      Warning,                         Yes   \n",
       "3                    FI Report,                          No   \n",
       "4                     Citation,                          No   \n",
       "\n",
       "  raw_subject_typeofsearch  raw_subject_resultofsearch  \n",
       "0                      NaN                         NaN  \n",
       "1            Prob./Parole,                         NaN  \n",
       "2            Prob./Parole,                         NaN  \n",
       "3                      NaN                         NaN  \n",
       "4                      NaN                         NaN  \n",
       "\n",
       "[5 rows x 28 columns]"
      ]
     },
     "execution_count": 3,
     "metadata": {},
     "output_type": "execute_result"
    }
   ],
   "source": [
    "# Examining the dataset\n",
    "oak = pd.read_csv('ca_oakland_2020_04_01.csv')\n",
    "oak.head()"
   ]
  },
  {
   "cell_type": "code",
   "execution_count": 4,
   "metadata": {},
   "outputs": [
    {
     "data": {
      "text/plain": [
       "raw_row_number                        0\n",
       "date                                  2\n",
       "time                                  2\n",
       "location                             51\n",
       "lat                                 114\n",
       "lng                                 114\n",
       "beat                              72424\n",
       "subject_age                      102724\n",
       "subject_race                          0\n",
       "subject_sex                          90\n",
       "officer_assignment               121431\n",
       "type                              20066\n",
       "arrest_made                           0\n",
       "citation_issued                       0\n",
       "warning_issued                        0\n",
       "outcome                           34107\n",
       "contraband_found                  92250\n",
       "contraband_drugs                  92250\n",
       "contraband_weapons                92250\n",
       "search_conducted                      0\n",
       "search_basis                      92250\n",
       "reason_for_stop                       0\n",
       "use_of_force_description         116734\n",
       "raw_subject_sdrace                    0\n",
       "raw_subject_resultofencounter         0\n",
       "raw_subject_searchconducted           0\n",
       "raw_subject_typeofsearch          52186\n",
       "raw_subject_resultofsearch       111633\n",
       "dtype: int64"
      ]
     },
     "execution_count": 4,
     "metadata": {},
     "output_type": "execute_result"
    }
   ],
   "source": [
    "oak.isnull().sum()"
   ]
  },
  {
   "cell_type": "code",
   "execution_count": 5,
   "metadata": {},
   "outputs": [
    {
     "data": {
      "text/plain": [
       "(133407, 28)"
      ]
     },
     "execution_count": 5,
     "metadata": {},
     "output_type": "execute_result"
    }
   ],
   "source": [
    "oak.shape"
   ]
  },
  {
   "cell_type": "code",
   "execution_count": 6,
   "metadata": {},
   "outputs": [
    {
     "data": {
      "text/html": [
       "<div>\n",
       "<style scoped>\n",
       "    .dataframe tbody tr th:only-of-type {\n",
       "        vertical-align: middle;\n",
       "    }\n",
       "\n",
       "    .dataframe tbody tr th {\n",
       "        vertical-align: top;\n",
       "    }\n",
       "\n",
       "    .dataframe thead th {\n",
       "        text-align: right;\n",
       "    }\n",
       "</style>\n",
       "<table border=\"1\" class=\"dataframe\">\n",
       "  <thead>\n",
       "    <tr style=\"text-align: right;\">\n",
       "      <th></th>\n",
       "      <th>date</th>\n",
       "      <th>time</th>\n",
       "      <th>subject_race</th>\n",
       "      <th>subject_sex</th>\n",
       "      <th>arrest_made</th>\n",
       "      <th>citation_issued</th>\n",
       "      <th>warning_issued</th>\n",
       "      <th>search_conducted</th>\n",
       "      <th>reason_for_stop</th>\n",
       "      <th>stop_outcome</th>\n",
       "    </tr>\n",
       "  </thead>\n",
       "  <tbody>\n",
       "    <tr>\n",
       "      <th>0</th>\n",
       "      <td>NaN</td>\n",
       "      <td>01:33:00</td>\n",
       "      <td>asian</td>\n",
       "      <td>female</td>\n",
       "      <td>False</td>\n",
       "      <td>True</td>\n",
       "      <td>False</td>\n",
       "      <td>False</td>\n",
       "      <td>Traffic Violation</td>\n",
       "      <td>Citation,</td>\n",
       "    </tr>\n",
       "    <tr>\n",
       "      <th>1</th>\n",
       "      <td>NaN</td>\n",
       "      <td>14:48:00</td>\n",
       "      <td>black</td>\n",
       "      <td>male</td>\n",
       "      <td>False</td>\n",
       "      <td>False</td>\n",
       "      <td>False</td>\n",
       "      <td>True</td>\n",
       "      <td>Probation/Parole</td>\n",
       "      <td>FI Report,</td>\n",
       "    </tr>\n",
       "    <tr>\n",
       "      <th>2</th>\n",
       "      <td>2013-04-01</td>\n",
       "      <td>00:00:00</td>\n",
       "      <td>white</td>\n",
       "      <td>male</td>\n",
       "      <td>False</td>\n",
       "      <td>False</td>\n",
       "      <td>True</td>\n",
       "      <td>True</td>\n",
       "      <td>Traffic Violation</td>\n",
       "      <td>Warning,</td>\n",
       "    </tr>\n",
       "    <tr>\n",
       "      <th>3</th>\n",
       "      <td>2013-04-01</td>\n",
       "      <td>00:01:00</td>\n",
       "      <td>black</td>\n",
       "      <td>male</td>\n",
       "      <td>False</td>\n",
       "      <td>False</td>\n",
       "      <td>False</td>\n",
       "      <td>False</td>\n",
       "      <td>Traffic Violation</td>\n",
       "      <td>FI Report,</td>\n",
       "    </tr>\n",
       "    <tr>\n",
       "      <th>4</th>\n",
       "      <td>2013-04-01</td>\n",
       "      <td>10:41:00</td>\n",
       "      <td>hispanic</td>\n",
       "      <td>female</td>\n",
       "      <td>False</td>\n",
       "      <td>True</td>\n",
       "      <td>False</td>\n",
       "      <td>False</td>\n",
       "      <td>Probable Cause</td>\n",
       "      <td>Citation,</td>\n",
       "    </tr>\n",
       "  </tbody>\n",
       "</table>\n",
       "</div>"
      ],
      "text/plain": [
       "         date      time subject_race subject_sex  arrest_made  \\\n",
       "0         NaN  01:33:00        asian      female        False   \n",
       "1         NaN  14:48:00        black        male        False   \n",
       "2  2013-04-01  00:00:00        white        male        False   \n",
       "3  2013-04-01  00:01:00        black        male        False   \n",
       "4  2013-04-01  10:41:00     hispanic      female        False   \n",
       "\n",
       "   citation_issued  warning_issued  search_conducted    reason_for_stop  \\\n",
       "0             True           False             False  Traffic Violation   \n",
       "1            False           False              True   Probation/Parole   \n",
       "2            False            True              True  Traffic Violation   \n",
       "3            False           False             False  Traffic Violation   \n",
       "4             True           False             False     Probable Cause   \n",
       "\n",
       "  stop_outcome  \n",
       "0    Citation,  \n",
       "1   FI Report,  \n",
       "2     Warning,  \n",
       "3   FI Report,  \n",
       "4    Citation,  "
      ]
     },
     "execution_count": 6,
     "metadata": {},
     "output_type": "execute_result"
    }
   ],
   "source": [
    "to_drop = ['location', 'lat', 'lng', 'officer_assignment', 'raw_row_number', \n",
    "           'contraband_found','raw_subject_searchconducted','raw_subject_resultofsearch', \n",
    "           'outcome', 'contraband_drugs','raw_subject_sdrace', 'type', 'beat', 'subject_age', \n",
    "           'raw_subject_typeofsearch', 'contraband_weapons','search_basis', 'use_of_force_description'  ]\n",
    "oak.drop(to_drop, axis='columns', inplace=True)\n",
    "oak.rename(columns={'raw_subject_resultofencounter':'stop_outcome'}, inplace=True)\n",
    "oak['subject_race'] = oak['subject_race'].replace({'asian/pacific islander': 'asian'})\n",
    "#oak['subject_race'] = oak['subject_race'].map({'asian/pacific islander': 'asian'})\n",
    "oak.head()"
   ]
  },
  {
   "cell_type": "code",
   "execution_count": 7,
   "metadata": {},
   "outputs": [
    {
     "data": {
      "text/plain": [
       "date                object\n",
       "time                object\n",
       "subject_race        object\n",
       "subject_sex         object\n",
       "arrest_made           bool\n",
       "citation_issued       bool\n",
       "warning_issued        bool\n",
       "search_conducted      bool\n",
       "reason_for_stop     object\n",
       "stop_outcome        object\n",
       "dtype: object"
      ]
     },
     "execution_count": 7,
     "metadata": {},
     "output_type": "execute_result"
    }
   ],
   "source": [
    "# Let's now make sure each column has the correct data type\n",
    "oak.dtypes"
   ]
  },
  {
   "cell_type": "code",
   "execution_count": 8,
   "metadata": {},
   "outputs": [
    {
     "data": {
      "text/plain": [
       "0           NaN\n",
       "1           NaN\n",
       "2    2013-04-01\n",
       "3    2013-04-01\n",
       "4    2013-04-01\n",
       "Name: date, dtype: object"
      ]
     },
     "execution_count": 8,
     "metadata": {},
     "output_type": "execute_result"
    }
   ],
   "source": [
    "# Notice we have two missing values in date column. Lets forward fill.\n",
    "oak['date'].head()"
   ]
  },
  {
   "cell_type": "code",
   "execution_count": 9,
   "metadata": {},
   "outputs": [
    {
     "data": {
      "text/plain": [
       "0    2013-04-01\n",
       "1    2013-04-01\n",
       "2    2013-04-01\n",
       "3    2013-04-01\n",
       "4    2013-04-01\n",
       "Name: date, dtype: object"
      ]
     },
     "execution_count": 9,
     "metadata": {},
     "output_type": "execute_result"
    }
   ],
   "source": [
    "oak['date'].fillna(method = 'bfill', inplace=True)\n",
    "oak['date'].head()"
   ]
  },
  {
   "cell_type": "code",
   "execution_count": 10,
   "metadata": {},
   "outputs": [
    {
     "data": {
      "text/plain": [
       "0"
      ]
     },
     "execution_count": 10,
     "metadata": {},
     "output_type": "execute_result"
    }
   ],
   "source": [
    "oak['date'].isnull().sum()"
   ]
  },
  {
   "cell_type": "code",
   "execution_count": 11,
   "metadata": {},
   "outputs": [
    {
     "data": {
      "text/plain": [
       "date                        object\n",
       "time                        object\n",
       "subject_race                object\n",
       "subject_sex                 object\n",
       "arrest_made                   bool\n",
       "citation_issued               bool\n",
       "warning_issued                bool\n",
       "search_conducted              bool\n",
       "reason_for_stop             object\n",
       "stop_outcome                object\n",
       "stop_datetime       datetime64[ns]\n",
       "dtype: object"
      ]
     },
     "execution_count": 11,
     "metadata": {},
     "output_type": "execute_result"
    }
   ],
   "source": [
    "# Concatenate 'stop_date' and 'stop_time' (separated by a space)\n",
    "combined = oak.date.str.cat(oak.time, sep= ' ')\n",
    "# Convert 'combined' to datetime format\n",
    "oak['stop_datetime'] = pd.to_datetime(combined)\n",
    "oak.dtypes"
   ]
  },
  {
   "cell_type": "code",
   "execution_count": 12,
   "metadata": {},
   "outputs": [
    {
     "name": "stdout",
     "output_type": "stream",
     "text": [
      "DatetimeIndex(['2013-04-01 01:33:00', '2013-04-01 14:48:00',\n",
      "               '2013-04-01 00:00:00', '2013-04-01 00:01:00',\n",
      "               '2013-04-01 10:41:00', '2013-04-01 14:18:00',\n",
      "               '2013-04-01 00:15:00', '2013-04-01 15:32:00',\n",
      "               '2013-04-01 15:55:00', '2013-04-01 16:37:00',\n",
      "               ...\n",
      "               '2017-12-31 23:38:00', '2017-12-31 23:52:00',\n",
      "               '2017-12-31 02:38:00', '2017-12-31 03:31:00',\n",
      "               '2017-12-31 03:34:00', '2017-12-31 04:10:00',\n",
      "               '2017-12-31 04:15:00', '2017-12-31 04:15:00',\n",
      "               '2017-12-31 07:00:00', '2017-12-31 09:39:00'],\n",
      "              dtype='datetime64[ns]', name='stop_datetime', length=133407, freq=None)\n",
      "Index(['date', 'time', 'subject_race', 'subject_sex', 'arrest_made',\n",
      "       'citation_issued', 'warning_issued', 'search_conducted',\n",
      "       'reason_for_stop', 'stop_outcome'],\n",
      "      dtype='object')\n"
     ]
    }
   ],
   "source": [
    "\n",
    "# Set 'stop_datetime' as the index\n",
    "oak.set_index('stop_datetime', inplace=True)\n",
    "\n",
    "# Examine the index\n",
    "print(oak.index)\n",
    "\n",
    "# Examine the columns\n",
    "print(oak.columns)"
   ]
  },
  {
   "cell_type": "code",
   "execution_count": 13,
   "metadata": {},
   "outputs": [
    {
     "data": {
      "text/html": [
       "<div>\n",
       "<style scoped>\n",
       "    .dataframe tbody tr th:only-of-type {\n",
       "        vertical-align: middle;\n",
       "    }\n",
       "\n",
       "    .dataframe tbody tr th {\n",
       "        vertical-align: top;\n",
       "    }\n",
       "\n",
       "    .dataframe thead th {\n",
       "        text-align: right;\n",
       "    }\n",
       "</style>\n",
       "<table border=\"1\" class=\"dataframe\">\n",
       "  <thead>\n",
       "    <tr style=\"text-align: right;\">\n",
       "      <th></th>\n",
       "      <th>subject_race</th>\n",
       "      <th>subject_sex</th>\n",
       "      <th>arrest_made</th>\n",
       "      <th>citation_issued</th>\n",
       "      <th>warning_issued</th>\n",
       "      <th>search_conducted</th>\n",
       "      <th>reason_for_stop</th>\n",
       "      <th>stop_outcome</th>\n",
       "    </tr>\n",
       "    <tr>\n",
       "      <th>stop_datetime</th>\n",
       "      <th></th>\n",
       "      <th></th>\n",
       "      <th></th>\n",
       "      <th></th>\n",
       "      <th></th>\n",
       "      <th></th>\n",
       "      <th></th>\n",
       "      <th></th>\n",
       "    </tr>\n",
       "  </thead>\n",
       "  <tbody>\n",
       "    <tr>\n",
       "      <th>2013-04-01 01:33:00</th>\n",
       "      <td>asian</td>\n",
       "      <td>female</td>\n",
       "      <td>False</td>\n",
       "      <td>True</td>\n",
       "      <td>False</td>\n",
       "      <td>False</td>\n",
       "      <td>Traffic Violation</td>\n",
       "      <td>Citation,</td>\n",
       "    </tr>\n",
       "    <tr>\n",
       "      <th>2013-04-01 14:48:00</th>\n",
       "      <td>black</td>\n",
       "      <td>male</td>\n",
       "      <td>False</td>\n",
       "      <td>False</td>\n",
       "      <td>False</td>\n",
       "      <td>True</td>\n",
       "      <td>Probation/Parole</td>\n",
       "      <td>FI Report,</td>\n",
       "    </tr>\n",
       "    <tr>\n",
       "      <th>2013-04-01 00:00:00</th>\n",
       "      <td>white</td>\n",
       "      <td>male</td>\n",
       "      <td>False</td>\n",
       "      <td>False</td>\n",
       "      <td>True</td>\n",
       "      <td>True</td>\n",
       "      <td>Traffic Violation</td>\n",
       "      <td>Warning,</td>\n",
       "    </tr>\n",
       "    <tr>\n",
       "      <th>2013-04-01 00:01:00</th>\n",
       "      <td>black</td>\n",
       "      <td>male</td>\n",
       "      <td>False</td>\n",
       "      <td>False</td>\n",
       "      <td>False</td>\n",
       "      <td>False</td>\n",
       "      <td>Traffic Violation</td>\n",
       "      <td>FI Report,</td>\n",
       "    </tr>\n",
       "    <tr>\n",
       "      <th>2013-04-01 10:41:00</th>\n",
       "      <td>hispanic</td>\n",
       "      <td>female</td>\n",
       "      <td>False</td>\n",
       "      <td>True</td>\n",
       "      <td>False</td>\n",
       "      <td>False</td>\n",
       "      <td>Probable Cause</td>\n",
       "      <td>Citation,</td>\n",
       "    </tr>\n",
       "  </tbody>\n",
       "</table>\n",
       "</div>"
      ],
      "text/plain": [
       "                    subject_race subject_sex  arrest_made  citation_issued  \\\n",
       "stop_datetime                                                                \n",
       "2013-04-01 01:33:00        asian      female        False             True   \n",
       "2013-04-01 14:48:00        black        male        False            False   \n",
       "2013-04-01 00:00:00        white        male        False            False   \n",
       "2013-04-01 00:01:00        black        male        False            False   \n",
       "2013-04-01 10:41:00     hispanic      female        False             True   \n",
       "\n",
       "                     warning_issued  search_conducted    reason_for_stop  \\\n",
       "stop_datetime                                                              \n",
       "2013-04-01 01:33:00           False             False  Traffic Violation   \n",
       "2013-04-01 14:48:00           False              True   Probation/Parole   \n",
       "2013-04-01 00:00:00            True              True  Traffic Violation   \n",
       "2013-04-01 00:01:00           False             False  Traffic Violation   \n",
       "2013-04-01 10:41:00           False             False     Probable Cause   \n",
       "\n",
       "                    stop_outcome  \n",
       "stop_datetime                     \n",
       "2013-04-01 01:33:00    Citation,  \n",
       "2013-04-01 14:48:00   FI Report,  \n",
       "2013-04-01 00:00:00     Warning,  \n",
       "2013-04-01 00:01:00   FI Report,  \n",
       "2013-04-01 10:41:00    Citation,  "
      ]
     },
     "execution_count": 13,
     "metadata": {},
     "output_type": "execute_result"
    }
   ],
   "source": [
    "# Renaming column & removing original date and time column to finale cleaning data\n",
    "oak.drop(['date', 'time'], axis= 'columns', inplace= True)\n",
    "oak.head()"
   ]
  },
  {
   "cell_type": "markdown",
   "metadata": {},
   "source": [
    "# Data Analysis"
   ]
  },
  {
   "cell_type": "code",
   "execution_count": 14,
   "metadata": {},
   "outputs": [
    {
     "name": "stdout",
     "output_type": "stream",
     "text": [
      "Rate of searches: 0.30850704985495514\n"
     ]
    },
    {
     "data": {
      "text/plain": [
       "subject_race\n",
       "asian       0.161008\n",
       "black       0.380424\n",
       "hispanic    0.256008\n",
       "other       0.156959\n",
       "white       0.153571\n",
       "Name: search_conducted, dtype: float64"
      ]
     },
     "execution_count": 14,
     "metadata": {},
     "output_type": "execute_result"
    }
   ],
   "source": [
    "print('Rate of searches:', oak.search_conducted.mean())\n",
    "oak.groupby('subject_race').search_conducted.mean()"
   ]
  },
  {
   "cell_type": "code",
   "execution_count": 15,
   "metadata": {},
   "outputs": [
    {
     "name": "stdout",
     "output_type": "stream",
     "text": [
      "Rate of arrests: 0.12135794973277264\n"
     ]
    },
    {
     "data": {
      "text/plain": [
       "subject_race\n",
       "asian       0.075688\n",
       "black       0.144973\n",
       "hispanic    0.099402\n",
       "other       0.071365\n",
       "white       0.077041\n",
       "Name: arrest_made, dtype: float64"
      ]
     },
     "execution_count": 15,
     "metadata": {},
     "output_type": "execute_result"
    }
   ],
   "source": [
    "print('Rate of arrests:', oak.arrest_made.mean())\n",
    "oak.groupby('subject_race').arrest_made.mean()"
   ]
  },
  {
   "cell_type": "code",
   "execution_count": 20,
   "metadata": {},
   "outputs": [
    {
     "data": {
      "image/png": "[encoded data removed]",
      "text/plain": [
       "<Figure size 1224x432 with 1 Axes>"
      ]
     },
     "metadata": {
      "needs_background": "light"
     },
     "output_type": "display_data"
    }
   ],
   "source": [
    "white = oak[oak.subject_race == 'white']\n",
    "black = oak[oak.subject_race == 'black']\n",
    "\n",
    "# Save the hourly arrest rate\n",
    "white_arrest_rate = white.groupby(white.index.hour).arrest_made.mean()\n",
    "black_arrest_rate = black.groupby(black.index.hour).arrest_made.mean()\n",
    "\n",
    "fig, ax = plt.subplots(figsize=(17,6))\n",
    "sns.lineplot(data= white_arrest_rate,\n",
    "             color='r',\n",
    "             ax=ax)\n",
    "sns.lineplot(data= black_arrest_rate, \n",
    "             color='b',\n",
    "             ax=ax)  \n",
    "ax.legend(['White', 'Black'], facecolor='w')\n",
    "plt.xlabel('Hour', size=20)\n",
    "plt.ylabel('Arrest Rate', size=20)\n",
    "plt.title('Arrest Rate by Time of Day')\n",
    "plt.show()"
   ]
  },
  {
   "cell_type": "code",
   "execution_count": 25,
   "metadata": {},
   "outputs": [
    {
     "data": {
      "image/png": "[encoded data removed]",
      "text/plain": [
       "<Figure size 1080x432 with 1 Axes>"
      ]
     },
     "metadata": {
      "needs_background": "light"
     },
     "output_type": "display_data"
    }
   ],
   "source": [
    "table = pd.crosstab( oak.subject_race, oak.subject_sex)\n",
    "table.sort_values(by = 'subject_race').plot(kind='bar', stacked= True, figsize=(15,6))\n",
    "plt.xlabel('Subject Race', size=20)\n",
    "plt.ylabel('Number of Stops', size=20)\n",
    "plt.title('Racial and Gender Disparities Among Police Stops in Oakland', size=20)\n",
    "plt.show()"
   ]
  }
 ],
 "metadata": {
  "kernelspec": {
   "display_name": "Python 3",
   "language": "python",
   "name": "python3"
  },
  "language_info": {
   "codemirror_mode": {
    "name": "ipython",
    "version": 3
   },
   "file_extension": ".py",
   "mimetype": "text/x-python",
   "name": "python",
   "nbconvert_exporter": "python",
   "pygments_lexer": "ipython3",
   "version": "3.7.4"
  }
 },
 "nbformat": 4,
 "nbformat_minor": 4
}

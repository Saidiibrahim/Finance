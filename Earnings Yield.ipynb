{
 "cells": [
  {
   "cell_type": "markdown",
   "metadata": {},
   "source": [
    "# Calculating Earnings Yield for Stocks Using Python\n",
    "### This workbook contains code to calculate earnings yield as described by Joel Greenblatt in his book The Magic Formula. Data for calculation is from the free API financialmodelingprep.com"
   ]
  },
  {
   "cell_type": "code",
   "execution_count": 1,
   "metadata": {},
   "outputs": [],
   "source": [
    "#import packages\n",
    "import requests\n",
    "import json"
   ]
  },
  {
   "cell_type": "code",
   "execution_count": 2,
   "metadata": {},
   "outputs": [],
   "source": [
    "# Get income statement using request package and convert to json\n",
    "stock = 'CORT'   \n",
    "income_statement =  requests.get(f\"https://financialmodelingprep.com/api/v3/financials/income-statement/{stock}?period=quarter\")\n",
    "income_statement = income_statement.json() \n",
    "\n",
    "#Get enterprise value (EV) using request package and convert to json\n",
    "EV_data =  requests.get(f\"https://financialmodelingprep.com/api/v3/enterprise-value/{stock}?period=quarter\")\n",
    "EV_data = EV_data.json() \n",
    "\n",
    "# Get most recent values from json file\n",
    "EBIT = float(income_statement['financials'][0]['EBIT'])\n",
    "EV = float(EV_data['enterpriseValues'][0]['Enterprise Value'])\n",
    "\n",
    "#Calculate Earnings Yield and convert to percentage\n",
    "Earnings_Yield = EBIT/EV * 100"
   ]
  },
  {
   "cell_type": "code",
   "execution_count": 3,
   "metadata": {},
   "outputs": [],
   "source": [
    "# Create a function that will calculate the earnings yield when given a ticker symbol\n",
    "def get_earnings_yield(stock):  \n",
    "    income_statement =  requests.get(f\"https://financialmodelingprep.com/api/v3/financials/income-statement/{stock}?period=quarter\")\n",
    "    income_statement = income_statement.json()\n",
    "    EV_data =  requests.get(f\"https://financialmodelingprep.com/api/v3/enterprise-value/{stock}?period=quarter\")\n",
    "    EV_data = EV_data.json()\n",
    "    EBIT = float(income_statement['financials'][0]['EBIT'])\n",
    "    EV = float(EV_data['enterpriseValues'][0]['Enterprise Value'])\n",
    "    Earnings_Yield = (EBIT/EV) * 100\n",
    "    return Earnings_Yield   "
   ]
  },
  {
   "cell_type": "code",
   "execution_count": 4,
   "metadata": {},
   "outputs": [
    {
     "data": {
      "text/plain": [
       "2.0562942580968486"
      ]
     },
     "execution_count": 4,
     "metadata": {},
     "output_type": "execute_result"
    }
   ],
   "source": [
    "# Check the function works\n",
    "get_earnings_yield('AAPL')"
   ]
  },
  {
   "cell_type": "code",
   "execution_count": null,
   "metadata": {},
   "outputs": [],
   "source": []
  }
 ],
 "metadata": {
  "kernelspec": {
   "display_name": "Python 3",
   "language": "python",
   "name": "python3"
  },
  "language_info": {
   "codemirror_mode": {
    "name": "ipython",
    "version": 3
   },
   "file_extension": ".py",
   "mimetype": "text/x-python",
   "name": "python",
   "nbconvert_exporter": "python",
   "pygments_lexer": "ipython3",
   "version": "3.7.4"
  }
 },
 "nbformat": 4,
 "nbformat_minor": 4
}
